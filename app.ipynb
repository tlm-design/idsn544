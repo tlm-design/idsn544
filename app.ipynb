{
  "cells": [
    {
      "cell_type": "markdown",
      "metadata": {
        "id": "view-in-github",
        "colab_type": "text"
      },
      "source": [
        "<a href=\"https://colab.research.google.com/github/tlm-design/idsn544/blob/main/app.ipynb\" target=\"_parent\"><img src=\"https://colab.research.google.com/assets/colab-badge.svg\" alt=\"Open In Colab\"/></a>"
      ]
    },
    {
      "cell_type": "code",
      "execution_count": null,
      "id": "18acb717",
      "metadata": {
        "id": "18acb717"
      },
      "outputs": [],
      "source": [
        "#|default_exp app"
      ]
    },
    {
      "cell_type": "code",
      "execution_count": null,
      "id": "44eb0ad3",
      "metadata": {
        "id": "44eb0ad3"
      },
      "outputs": [],
      "source": [
        "#|export\n",
        "from fastai.vision.all import *\n",
        "import gradio as gr\n",
        "\n",
        "def is_cat(x): return x[0].isupper()"
      ]
    },
    {
      "cell_type": "code",
      "execution_count": null,
      "id": "d838c0b3",
      "metadata": {
        "id": "d838c0b3"
      },
      "outputs": [],
      "source": [
        "path = untar_data(URLs.PETS)/'images'\n",
        "\n",
        "dls = ImageDataLoaders.from_name_func('.',\n",
        "    get_image_files(path), valid_pct=0.2, seed=42,\n",
        "    label_func=is_cat,\n",
        "    item_tfms=Resize(192, method='squish'))"
      ]
    },
    {
      "cell_type": "code",
      "execution_count": null,
      "id": "c107f724",
      "metadata": {
        "id": "c107f724",
        "outputId": "51c84948-444f-4de5-b304-774ceec8e104"
      },
      "outputs": [
        {
          "data": {
            "text/html": [
              "\n",
              "<style>\n",
              "    /* Turns off some styling */\n",
              "    progress {\n",
              "        /* gets rid of default border in Firefox and Opera. */\n",
              "        border: none;\n",
              "        /* Needs to be in here for Safari polyfill so background images work as expected. */\n",
              "        background-size: auto;\n",
              "    }\n",
              "    .progress-bar-interrupted, .progress-bar-interrupted::-webkit-progress-bar {\n",
              "        background: #F44336;\n",
              "    }\n",
              "</style>\n"
            ],
            "text/plain": [
              "<IPython.core.display.HTML object>"
            ]
          },
          "metadata": {},
          "output_type": "display_data"
        },
        {
          "data": {
            "text/html": [
              "<table border=\"1\" class=\"dataframe\">\n",
              "  <thead>\n",
              "    <tr style=\"text-align: left;\">\n",
              "      <th>epoch</th>\n",
              "      <th>train_loss</th>\n",
              "      <th>valid_loss</th>\n",
              "      <th>error_rate</th>\n",
              "      <th>time</th>\n",
              "    </tr>\n",
              "  </thead>\n",
              "  <tbody>\n",
              "    <tr>\n",
              "      <td>0</td>\n",
              "      <td>0.209574</td>\n",
              "      <td>0.081121</td>\n",
              "      <td>0.022327</td>\n",
              "      <td>00:24</td>\n",
              "    </tr>\n",
              "  </tbody>\n",
              "</table>"
            ],
            "text/plain": [
              "<IPython.core.display.HTML object>"
            ]
          },
          "metadata": {},
          "output_type": "display_data"
        },
        {
          "data": {
            "text/html": [
              "\n",
              "<style>\n",
              "    /* Turns off some styling */\n",
              "    progress {\n",
              "        /* gets rid of default border in Firefox and Opera. */\n",
              "        border: none;\n",
              "        /* Needs to be in here for Safari polyfill so background images work as expected. */\n",
              "        background-size: auto;\n",
              "    }\n",
              "    .progress-bar-interrupted, .progress-bar-interrupted::-webkit-progress-bar {\n",
              "        background: #F44336;\n",
              "    }\n",
              "</style>\n"
            ],
            "text/plain": [
              "<IPython.core.display.HTML object>"
            ]
          },
          "metadata": {},
          "output_type": "display_data"
        },
        {
          "data": {
            "text/html": [
              "<table border=\"1\" class=\"dataframe\">\n",
              "  <thead>\n",
              "    <tr style=\"text-align: left;\">\n",
              "      <th>epoch</th>\n",
              "      <th>train_loss</th>\n",
              "      <th>valid_loss</th>\n",
              "      <th>error_rate</th>\n",
              "      <th>time</th>\n",
              "    </tr>\n",
              "  </thead>\n",
              "  <tbody>\n",
              "    <tr>\n",
              "      <td>0</td>\n",
              "      <td>0.090262</td>\n",
              "      <td>0.056602</td>\n",
              "      <td>0.017591</td>\n",
              "      <td>00:23</td>\n",
              "    </tr>\n",
              "    <tr>\n",
              "      <td>1</td>\n",
              "      <td>0.035389</td>\n",
              "      <td>0.037754</td>\n",
              "      <td>0.014208</td>\n",
              "      <td>00:22</td>\n",
              "    </tr>\n",
              "    <tr>\n",
              "      <td>2</td>\n",
              "      <td>0.013607</td>\n",
              "      <td>0.038817</td>\n",
              "      <td>0.012179</td>\n",
              "      <td>00:22</td>\n",
              "    </tr>\n",
              "  </tbody>\n",
              "</table>"
            ],
            "text/plain": [
              "<IPython.core.display.HTML object>"
            ]
          },
          "metadata": {},
          "output_type": "display_data"
        }
      ],
      "source": [
        "learn = vision_learner(dls, resnet18, metrics=error_rate)\n",
        "learn.fine_tune(3)"
      ]
    },
    {
      "cell_type": "code",
      "execution_count": null,
      "id": "bed928f3",
      "metadata": {
        "id": "bed928f3"
      },
      "outputs": [],
      "source": [
        "path = untar_data(URLs.PETS)/'images'\n",
        "\n",
        "dls = ImageDataLoaders.from_name_func('.',\n",
        "    get_image_files(path), valid_pct=0.2, seed=42,\n",
        "    label_func=is_cat,\n",
        "    item_tfms=Resize(192))"
      ]
    },
    {
      "cell_type": "code",
      "execution_count": null,
      "id": "7e56b200",
      "metadata": {
        "id": "7e56b200",
        "outputId": "35e79f55-31bb-4412-f0f4-f3fe8a1f4722"
      },
      "outputs": [
        {
          "data": {
            "text/html": [
              "\n",
              "<style>\n",
              "    /* Turns off some styling */\n",
              "    progress {\n",
              "        /* gets rid of default border in Firefox and Opera. */\n",
              "        border: none;\n",
              "        /* Needs to be in here for Safari polyfill so background images work as expected. */\n",
              "        background-size: auto;\n",
              "    }\n",
              "    .progress-bar-interrupted, .progress-bar-interrupted::-webkit-progress-bar {\n",
              "        background: #F44336;\n",
              "    }\n",
              "</style>\n"
            ],
            "text/plain": [
              "<IPython.core.display.HTML object>"
            ]
          },
          "metadata": {},
          "output_type": "display_data"
        },
        {
          "data": {
            "text/html": [
              "<table border=\"1\" class=\"dataframe\">\n",
              "  <thead>\n",
              "    <tr style=\"text-align: left;\">\n",
              "      <th>epoch</th>\n",
              "      <th>train_loss</th>\n",
              "      <th>valid_loss</th>\n",
              "      <th>error_rate</th>\n",
              "      <th>time</th>\n",
              "    </tr>\n",
              "  </thead>\n",
              "  <tbody>\n",
              "    <tr>\n",
              "      <td>0</td>\n",
              "      <td>0.184049</td>\n",
              "      <td>0.038403</td>\n",
              "      <td>0.010825</td>\n",
              "      <td>00:21</td>\n",
              "    </tr>\n",
              "  </tbody>\n",
              "</table>"
            ],
            "text/plain": [
              "<IPython.core.display.HTML object>"
            ]
          },
          "metadata": {},
          "output_type": "display_data"
        },
        {
          "data": {
            "text/html": [
              "\n",
              "<style>\n",
              "    /* Turns off some styling */\n",
              "    progress {\n",
              "        /* gets rid of default border in Firefox and Opera. */\n",
              "        border: none;\n",
              "        /* Needs to be in here for Safari polyfill so background images work as expected. */\n",
              "        background-size: auto;\n",
              "    }\n",
              "    .progress-bar-interrupted, .progress-bar-interrupted::-webkit-progress-bar {\n",
              "        background: #F44336;\n",
              "    }\n",
              "</style>\n"
            ],
            "text/plain": [
              "<IPython.core.display.HTML object>"
            ]
          },
          "metadata": {},
          "output_type": "display_data"
        },
        {
          "data": {
            "text/html": [
              "<table border=\"1\" class=\"dataframe\">\n",
              "  <thead>\n",
              "    <tr style=\"text-align: left;\">\n",
              "      <th>epoch</th>\n",
              "      <th>train_loss</th>\n",
              "      <th>valid_loss</th>\n",
              "      <th>error_rate</th>\n",
              "      <th>time</th>\n",
              "    </tr>\n",
              "  </thead>\n",
              "  <tbody>\n",
              "    <tr>\n",
              "      <td>0</td>\n",
              "      <td>0.075693</td>\n",
              "      <td>0.042666</td>\n",
              "      <td>0.013532</td>\n",
              "      <td>00:24</td>\n",
              "    </tr>\n",
              "    <tr>\n",
              "      <td>1</td>\n",
              "      <td>0.038955</td>\n",
              "      <td>0.018082</td>\n",
              "      <td>0.006089</td>\n",
              "      <td>00:22</td>\n",
              "    </tr>\n",
              "    <tr>\n",
              "      <td>2</td>\n",
              "      <td>0.016343</td>\n",
              "      <td>0.018480</td>\n",
              "      <td>0.004736</td>\n",
              "      <td>00:24</td>\n",
              "    </tr>\n",
              "  </tbody>\n",
              "</table>"
            ],
            "text/plain": [
              "<IPython.core.display.HTML object>"
            ]
          },
          "metadata": {},
          "output_type": "display_data"
        }
      ],
      "source": [
        "learn = vision_learner(dls, resnet18, metrics=error_rate).to_fp16()\n",
        "learn.fine_tune(3)"
      ]
    },
    {
      "cell_type": "code",
      "execution_count": null,
      "id": "5171c7fc",
      "metadata": {
        "id": "5171c7fc"
      },
      "outputs": [],
      "source": [
        "learn.export('model.pkl')"
      ]
    },
    {
      "cell_type": "code",
      "execution_count": null,
      "id": "3295ef11",
      "metadata": {
        "id": "3295ef11",
        "outputId": "16354209-ae7d-4549-b34f-c89d76fd08fc"
      },
      "outputs": [
        {
          "data": {
            "image/png": "[encoded data removed]",
            "text/plain": [
              "PILImage mode=RGB size=192x191"
            ]
          },
          "execution_count": null,
          "metadata": {},
          "output_type": "execute_result"
        }
      ],
      "source": [
        "im = PILImage.create('dog.jpg')\n",
        "im.thumbnail((192,192))\n",
        "im"
      ]
    },
    {
      "cell_type": "code",
      "execution_count": null,
      "id": "ae2bc6ac",
      "metadata": {
        "id": "ae2bc6ac"
      },
      "outputs": [],
      "source": [
        "#|export\n",
        "learn = load_learner('model.pkl')"
      ]
    },
    {
      "cell_type": "code",
      "execution_count": null,
      "id": "6e0bf9da",
      "metadata": {
        "id": "6e0bf9da",
        "outputId": "7f9bc657-ac19-4969-b01c-859b63126885"
      },
      "outputs": [
        {
          "data": {
            "text/html": [
              "\n",
              "<style>\n",
              "    /* Turns off some styling */\n",
              "    progress {\n",
              "        /* gets rid of default border in Firefox and Opera. */\n",
              "        border: none;\n",
              "        /* Needs to be in here for Safari polyfill so background images work as expected. */\n",
              "        background-size: auto;\n",
              "    }\n",
              "    .progress-bar-interrupted, .progress-bar-interrupted::-webkit-progress-bar {\n",
              "        background: #F44336;\n",
              "    }\n",
              "</style>\n"
            ],
            "text/plain": [
              "<IPython.core.display.HTML object>"
            ]
          },
          "metadata": {},
          "output_type": "display_data"
        },
        {
          "data": {
            "text/html": [],
            "text/plain": [
              "<IPython.core.display.HTML object>"
            ]
          },
          "metadata": {},
          "output_type": "display_data"
        },
        {
          "data": {
            "text/plain": [
              "('False', TensorBase(0), TensorBase([9.9999e-01, 8.4523e-06]))"
            ]
          },
          "execution_count": null,
          "metadata": {},
          "output_type": "execute_result"
        }
      ],
      "source": [
        "learn.predict(im)"
      ]
    },
    {
      "cell_type": "code",
      "execution_count": null,
      "id": "0419ed3a",
      "metadata": {
        "id": "0419ed3a"
      },
      "outputs": [],
      "source": [
        "#|export\n",
        "categories = ('Dog', 'Cat')\n",
        "\n",
        "def classify_image(img):\n",
        "    pred,idx,probs = learn.predict(img)\n",
        "    return dict(zip(categories, map(float,probs)))"
      ]
    },
    {
      "cell_type": "code",
      "execution_count": null,
      "id": "762dec00",
      "metadata": {
        "id": "762dec00",
        "outputId": "124adbaf-87f6-4222-da46-349e8a51ec31"
      },
      "outputs": [
        {
          "data": {
            "text/html": [
              "\n",
              "<style>\n",
              "    /* Turns off some styling */\n",
              "    progress {\n",
              "        /* gets rid of default border in Firefox and Opera. */\n",
              "        border: none;\n",
              "        /* Needs to be in here for Safari polyfill so background images work as expected. */\n",
              "        background-size: auto;\n",
              "    }\n",
              "    .progress-bar-interrupted, .progress-bar-interrupted::-webkit-progress-bar {\n",
              "        background: #F44336;\n",
              "    }\n",
              "</style>\n"
            ],
            "text/plain": [
              "<IPython.core.display.HTML object>"
            ]
          },
          "metadata": {},
          "output_type": "display_data"
        },
        {
          "data": {
            "text/html": [],
            "text/plain": [
              "<IPython.core.display.HTML object>"
            ]
          },
          "metadata": {},
          "output_type": "display_data"
        },
        {
          "data": {
            "text/plain": [
              "{'Dog': 0.9999915361404419, 'Cat': 8.452258043689653e-06}"
            ]
          },
          "execution_count": null,
          "metadata": {},
          "output_type": "execute_result"
        }
      ],
      "source": [
        "classify_image(im)"
      ]
    },
    {
      "cell_type": "code",
      "execution_count": null,
      "id": "0518a30a",
      "metadata": {
        "id": "0518a30a",
        "outputId": "0ef90558-7bf7-4d13-e472-7c2a391ff258"
      },
      "outputs": [
        {
          "name": "stdout",
          "output_type": "stream",
          "text": [
            "Running on local URL:  http://127.0.0.1:7860/\n",
            "\n",
            "To create a public link, set `share=True` in `launch()`.\n"
          ]
        },
        {
          "data": {
            "text/plain": [
              "(<fastapi.applications.FastAPI at 0x7fa03ba47670>,\n",
              " 'http://127.0.0.1:7860/',\n",
              " None)"
            ]
          },
          "execution_count": null,
          "metadata": {},
          "output_type": "execute_result"
        }
      ],
      "source": [
        "#|export\n",
        "image = gr.inputs.Image(shape=(192, 192))\n",
        "label = gr.outputs.Label()\n",
        "examples = ['dog.jpg', 'cat.jpg', 'dunno.jpg']\n",
        "\n",
        "intf = gr.Interface(fn=classify_image, inputs=image, outputs=label, examples=examples)\n",
        "intf.launch(inline=False)"
      ]
    },
    {
      "cell_type": "markdown",
      "id": "0d1e90ce",
      "metadata": {
        "id": "0d1e90ce"
      },
      "source": [
        "## end -"
      ]
    },
    {
      "cell_type": "code",
      "execution_count": null,
      "id": "82774c08",
      "metadata": {
        "id": "82774c08"
      },
      "outputs": [],
      "source": [
        "from nbdev.export import notebook2script"
      ]
    },
    {
      "cell_type": "code",
      "execution_count": null,
      "id": "7a880da1",
      "metadata": {
        "id": "7a880da1",
        "outputId": "882a9ef0-82bf-4f66-efaf-bfaf39a98834"
      },
      "outputs": [
        {
          "name": "stdout",
          "output_type": "stream",
          "text": [
            "Converted app.ipynb.\n"
          ]
        }
      ],
      "source": [
        "notebook2script('app.ipynb')"
      ]
    },
    {
      "cell_type": "code",
      "execution_count": null,
      "id": "1a349335",
      "metadata": {
        "id": "1a349335"
      },
      "outputs": [],
      "source": []
    }
  ],
  "metadata": {
    "kernelspec": {
      "display_name": "Python 3 (ipykernel)",
      "language": "python",
      "name": "python3"
    },
    "colab": {
      "provenance": [],
      "include_colab_link": true
    }
  },
  "nbformat": 4,
  "nbformat_minor": 5
}